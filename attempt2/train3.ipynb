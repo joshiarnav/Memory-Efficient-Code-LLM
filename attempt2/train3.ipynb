{
 "cells": [
  {
   "cell_type": "code",
   "execution_count": null,
   "metadata": {},
   "outputs": [],
   "source": [
    "# %%\n",
    "%pip install datasets\n",
    "%pip install peft\n",
    "%pip install -U bitsandbytes\n"
   ]
  },
  {
   "cell_type": "code",
   "execution_count": null,
   "metadata": {},
   "outputs": [],
   "source": [
    "# %%\n",
    "import torch\n",
    "from transformers import (\n",
    "    AutoModelForCausalLM,\n",
    "    AutoTokenizer,\n",
    "    BitsAndBytesConfig,\n",
    "    TrainingArguments,\n",
    "    Trainer,\n",
    "    DataCollatorForSeq2Seq\n",
    ")\n",
    "from datasets import load_dataset\n",
    "from peft import LoraConfig, get_peft_model, prepare_model_for_kbit_training\n",
    "import psutil\n",
    "import os\n",
    "import numpy as np\n"
   ]
  },
  {
   "cell_type": "code",
   "execution_count": null,
   "metadata": {},
   "outputs": [],
   "source": [
    "# %%\n",
    "def format_example(example):\n",
    "    \"\"\"Format a single example for fine-tuning.\"\"\"\n",
    "    return f\"\"\"Problem: {example['markdown_description']}\\n\\nSolution: {example['canonical_solution']}\"\"\"\n",
    "\n",
    "def get_memory_usage():\n",
    "    \"\"\"Get current memory usage in MB.\"\"\"\n",
    "    process = psutil.Process(os.getpid())\n",
    "    return process.memory_info().rss / 1024 / 1024\n"
   ]
  },
  {
   "cell_type": "code",
   "execution_count": null,
   "metadata": {},
   "outputs": [],
   "source": [
    "# %%\n",
    "def prepare_dataset():\n",
    "    \"\"\"Prepare the Effibench dataset for fine-tuning.\"\"\"\n",
    "    dataset = load_dataset(\"DONG19/EffiBench\")\n",
    "    print(\"Sample record:\", dataset['train'][0])  # Inspect a single record\n",
    "\n",
    "    def format_function(examples):\n",
    "        inputs = [f\"Problem: {md}\" for md in examples[\"markdown_description\"]]\n",
    "        outputs = [f\"Solution: {cs}\" for cs in examples[\"canonical_solution\"]]\n",
    "        return {\"input_text\": inputs, \"output_text\": outputs}\n",
    "\n",
    "    # Tokenization function\n",
    "    def tokenize_function(examples):\n",
    "        inputs = tokenizer(\n",
    "            examples[\"input_text\"], padding=\"max_length\", truncation=True, max_length=256\n",
    "        )\n",
    "        outputs = tokenizer(\n",
    "            examples[\"output_text\"], padding=\"max_length\", truncation=True, max_length=256\n",
    "        )\n",
    "        inputs[\"labels\"] = outputs[\"input_ids\"]\n",
    "        return inputs\n",
    "\n",
    "    # Format the dataset\n",
    "    formatted_dataset = dataset.map(\n",
    "        format_function,\n",
    "        remove_columns=dataset[\"train\"].column_names,\n",
    "        batched=True  # Process in batches\n",
    "    )\n",
    "\n",
    "    # Tokenize the dataset\n",
    "    tokenized_dataset = formatted_dataset.map(\n",
    "        tokenize_function,\n",
    "        batched=True\n",
    "    )\n",
    "\n",
    "    return tokenized_dataset\n"
   ]
  },
  {
   "cell_type": "code",
   "execution_count": null,
   "metadata": {},
   "outputs": [],
   "source": [
    "# %%\n",
    "# Initialize memory tracking\n",
    "initial_memory = get_memory_usage()\n",
    "memory_measurements = []\n"
   ]
  },
  {
   "cell_type": "code",
   "execution_count": null,
   "metadata": {},
   "outputs": [],
   "source": [
    "# %%\n",
    "# Model configuration\n",
    "model_name = \"NousResearch/Llama-2-7b-hf\"  # Using 7B parameter model as it's more consumer-friendly\n",
    "\n",
    "# QLoRA configuration\n",
    "bnb_config = BitsAndBytesConfig(\n",
    "    load_in_4bit=True,\n",
    "    bnb_4bit_use_double_quant=True,\n",
    "    bnb_4bit_quant_type=\"nf4\",\n",
    "    bnb_4bit_compute_dtype=torch.float16\n",
    ")\n",
    "\n",
    "# Load base model\n",
    "model = AutoModelForCausalLM.from_pretrained(\n",
    "    model_name,\n",
    "    quantization_config=bnb_config,\n",
    "    device_map=\"auto\",\n",
    "    trust_remote_code=True\n",
    ")\n",
    "model = prepare_model_for_kbit_training(model)\n"
   ]
  },
  {
   "cell_type": "code",
   "execution_count": null,
   "metadata": {},
   "outputs": [],
   "source": [
    "# %%\n",
    "# LoRA configuration\n",
    "lora_config = LoraConfig(\n",
    "    r=16,\n",
    "    lora_alpha=32,\n",
    "    target_modules=[\"q_proj\", \"v_proj\"],\n",
    "    lora_dropout=0.05,\n",
    "    bias=\"none\",\n",
    "    task_type=\"SEQ2SEQ_LM\"\n",
    ")\n",
    "\n",
    "# Apply LoRA\n",
    "model = get_peft_model(model, lora_config)\n",
    "\n",
    "# Load tokenizer\n",
    "tokenizer = AutoTokenizer.from_pretrained(model_name)\n",
    "tokenizer.pad_token = tokenizer.eos_token\n"
   ]
  },
  {
   "cell_type": "code",
   "execution_count": null,
   "metadata": {},
   "outputs": [],
   "source": [
    "# %%\n",
    "# Prepare dataset\n",
    "dataset = prepare_dataset()\n"
   ]
  },
  {
   "cell_type": "code",
   "execution_count": null,
   "metadata": {},
   "outputs": [],
   "source": [
    "# %%\n",
    "# Training arguments\n",
    "training_args = TrainingArguments(\n",
    "    output_dir=\"./results\",\n",
    "    num_train_epochs=1,\n",
    "    per_device_train_batch_size=4,\n",
    "    gradient_accumulation_steps=4,\n",
    "    warmup_steps=100,\n",
    "    logging_steps=100,\n",
    "    learning_rate=2e-4,\n",
    "    fp16=True,\n",
    "    save_strategy=\"epoch\",\n",
    "    predict_with_generate=True  # Required for seq2seq tasks\n",
    ")\n"
   ]
  },
  {
   "cell_type": "code",
   "execution_count": null,
   "metadata": {},
   "outputs": [],
   "source": [
    "# %%\n",
    "# Data collator for seq2seq\n",
    "data_collator = DataCollatorForSeq2Seq(tokenizer=tokenizer, model=model)\n",
    "\n",
    "# Initialize trainer\n",
    "trainer = Trainer(\n",
    "    model=model,\n",
    "    args=training_args,\n",
    "    train_dataset=dataset[\"train\"],\n",
    "    data_collator=data_collator,\n",
    ")\n"
   ]
  },
  {
   "cell_type": "code",
   "execution_count": null,
   "metadata": {},
   "outputs": [],
   "source": [
    "# %%\n",
    "# Record pre-training memory\n",
    "pre_training_memory = get_memory_usage()\n",
    "memory_measurements.append((\"Pre-training\", pre_training_memory))\n"
   ]
  },
  {
   "cell_type": "code",
   "execution_count": null,
   "metadata": {},
   "outputs": [],
   "source": [
    "# %%\n",
    "# Train the model\n",
    "trainer.train()\n"
   ]
  },
  {
   "cell_type": "code",
   "execution_count": null,
   "metadata": {},
   "outputs": [],
   "source": [
    "# %%\n",
    "# Record post-training memory\n",
    "post_training_memory = get_memory_usage()\n",
    "memory_measurements.append((\"Post-training\", post_training_memory))\n",
    "\n",
    "# Print memory usage statistics\n",
    "print(\"\\nMemory Usage Statistics:\")\n",
    "print(f\"Initial Memory Usage: {initial_memory:.2f} MB\")\n",
    "for stage, memory in memory_measurements:\n",
    "    print(f\"{stage} Memory Usage: {memory:.2f} MB\")\n"
   ]
  }
 ],
 "metadata": {
  "language_info": {
   "codemirror_mode": {
    "name": "ipython",
    "version": 3
   },
   "file_extension": ".py",
   "mimetype": "text/x-python",
   "name": "python",
   "nbconvert_exporter": "python",
   "pygments_lexer": "ipython3",
   "version": 3
  }
 },
 "nbformat": 4,
 "nbformat_minor": 2
}
