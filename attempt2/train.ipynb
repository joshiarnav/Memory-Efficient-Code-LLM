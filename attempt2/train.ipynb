{
  "cells": [
    {
      "cell_type": "code",
      "source": [
        "%pip install datasets\n",
        "%pip install peft\n",
        "%pip install -U bitsandbytes\n",
        "# %pip install transformers\n",
        "# %pip install accelerate"
      ],
      "metadata": {
        "colab": {
          "base_uri": "https://localhost:8080/"
        },
        "id": "dvyWWF45H2jr",
        "outputId": "57ed998c-b27e-43a2-a815-b4c7ef83b91e"
      },
      "execution_count": 1,
      "outputs": [
        {
          "output_type": "stream",
          "name": "stdout",
          "text": [
            "Requirement already satisfied: datasets in /usr/local/lib/python3.10/dist-packages (3.1.0)\n",
            "Requirement already satisfied: filelock in /usr/local/lib/python3.10/dist-packages (from datasets) (3.16.1)\n",
            "Requirement already satisfied: numpy>=1.17 in /usr/local/lib/python3.10/dist-packages (from datasets) (1.26.4)\n",
            "Requirement already satisfied: pyarrow>=15.0.0 in /usr/local/lib/python3.10/dist-packages (from datasets) (17.0.0)\n",
            "Requirement already satisfied: dill<0.3.9,>=0.3.0 in /usr/local/lib/python3.10/dist-packages (from datasets) (0.3.8)\n",
            "Requirement already satisfied: pandas in /usr/local/lib/python3.10/dist-packages (from datasets) (2.2.2)\n",
            "Requirement already satisfied: requests>=2.32.2 in /usr/local/lib/python3.10/dist-packages (from datasets) (2.32.3)\n",
            "Requirement already satisfied: tqdm>=4.66.3 in /usr/local/lib/python3.10/dist-packages (from datasets) (4.66.6)\n",
            "Requirement already satisfied: xxhash in /usr/local/lib/python3.10/dist-packages (from datasets) (3.5.0)\n",
            "Requirement already satisfied: multiprocess<0.70.17 in /usr/local/lib/python3.10/dist-packages (from datasets) (0.70.16)\n",
            "Requirement already satisfied: fsspec<=2024.9.0,>=2023.1.0 in /usr/local/lib/python3.10/dist-packages (from fsspec[http]<=2024.9.0,>=2023.1.0->datasets) (2024.9.0)\n",
            "Requirement already satisfied: aiohttp in /usr/local/lib/python3.10/dist-packages (from datasets) (3.11.9)\n",
            "Requirement already satisfied: huggingface-hub>=0.23.0 in /usr/local/lib/python3.10/dist-packages (from datasets) (0.26.3)\n",
            "Requirement already satisfied: packaging in /usr/local/lib/python3.10/dist-packages (from datasets) (24.2)\n",
            "Requirement already satisfied: pyyaml>=5.1 in /usr/local/lib/python3.10/dist-packages (from datasets) (6.0.2)\n",
            "Requirement already satisfied: aiohappyeyeballs>=2.3.0 in /usr/local/lib/python3.10/dist-packages (from aiohttp->datasets) (2.4.4)\n",
            "Requirement already satisfied: aiosignal>=1.1.2 in /usr/local/lib/python3.10/dist-packages (from aiohttp->datasets) (1.3.1)\n",
            "Requirement already satisfied: async-timeout<6.0,>=4.0 in /usr/local/lib/python3.10/dist-packages (from aiohttp->datasets) (4.0.3)\n",
            "Requirement already satisfied: attrs>=17.3.0 in /usr/local/lib/python3.10/dist-packages (from aiohttp->datasets) (24.2.0)\n",
            "Requirement already satisfied: frozenlist>=1.1.1 in /usr/local/lib/python3.10/dist-packages (from aiohttp->datasets) (1.5.0)\n",
            "Requirement already satisfied: multidict<7.0,>=4.5 in /usr/local/lib/python3.10/dist-packages (from aiohttp->datasets) (6.1.0)\n",
            "Requirement already satisfied: propcache>=0.2.0 in /usr/local/lib/python3.10/dist-packages (from aiohttp->datasets) (0.2.1)\n",
            "Requirement already satisfied: yarl<2.0,>=1.17.0 in /usr/local/lib/python3.10/dist-packages (from aiohttp->datasets) (1.18.3)\n",
            "Requirement already satisfied: typing-extensions>=3.7.4.3 in /usr/local/lib/python3.10/dist-packages (from huggingface-hub>=0.23.0->datasets) (4.12.2)\n",
            "Requirement already satisfied: charset-normalizer<4,>=2 in /usr/local/lib/python3.10/dist-packages (from requests>=2.32.2->datasets) (3.4.0)\n",
            "Requirement already satisfied: idna<4,>=2.5 in /usr/local/lib/python3.10/dist-packages (from requests>=2.32.2->datasets) (3.10)\n",
            "Requirement already satisfied: urllib3<3,>=1.21.1 in /usr/local/lib/python3.10/dist-packages (from requests>=2.32.2->datasets) (2.2.3)\n",
            "Requirement already satisfied: certifi>=2017.4.17 in /usr/local/lib/python3.10/dist-packages (from requests>=2.32.2->datasets) (2024.8.30)\n",
            "Requirement already satisfied: python-dateutil>=2.8.2 in /usr/local/lib/python3.10/dist-packages (from pandas->datasets) (2.8.2)\n",
            "Requirement already satisfied: pytz>=2020.1 in /usr/local/lib/python3.10/dist-packages (from pandas->datasets) (2024.2)\n",
            "Requirement already satisfied: tzdata>=2022.7 in /usr/local/lib/python3.10/dist-packages (from pandas->datasets) (2024.2)\n",
            "Requirement already satisfied: six>=1.5 in /usr/local/lib/python3.10/dist-packages (from python-dateutil>=2.8.2->pandas->datasets) (1.16.0)\n",
            "Requirement already satisfied: peft in /usr/local/lib/python3.10/dist-packages (0.13.2)\n",
            "Requirement already satisfied: numpy>=1.17 in /usr/local/lib/python3.10/dist-packages (from peft) (1.26.4)\n",
            "Requirement already satisfied: packaging>=20.0 in /usr/local/lib/python3.10/dist-packages (from peft) (24.2)\n",
            "Requirement already satisfied: psutil in /usr/local/lib/python3.10/dist-packages (from peft) (5.9.5)\n",
            "Requirement already satisfied: pyyaml in /usr/local/lib/python3.10/dist-packages (from peft) (6.0.2)\n",
            "Requirement already satisfied: torch>=1.13.0 in /usr/local/lib/python3.10/dist-packages (from peft) (2.5.1+cu121)\n",
            "Requirement already satisfied: transformers in /usr/local/lib/python3.10/dist-packages (from peft) (4.46.3)\n",
            "Requirement already satisfied: tqdm in /usr/local/lib/python3.10/dist-packages (from peft) (4.66.6)\n",
            "Requirement already satisfied: accelerate>=0.21.0 in /usr/local/lib/python3.10/dist-packages (from peft) (1.1.1)\n",
            "Requirement already satisfied: safetensors in /usr/local/lib/python3.10/dist-packages (from peft) (0.4.5)\n",
            "Requirement already satisfied: huggingface-hub>=0.17.0 in /usr/local/lib/python3.10/dist-packages (from peft) (0.26.3)\n",
            "Requirement already satisfied: filelock in /usr/local/lib/python3.10/dist-packages (from huggingface-hub>=0.17.0->peft) (3.16.1)\n",
            "Requirement already satisfied: fsspec>=2023.5.0 in /usr/local/lib/python3.10/dist-packages (from huggingface-hub>=0.17.0->peft) (2024.9.0)\n",
            "Requirement already satisfied: requests in /usr/local/lib/python3.10/dist-packages (from huggingface-hub>=0.17.0->peft) (2.32.3)\n",
            "Requirement already satisfied: typing-extensions>=3.7.4.3 in /usr/local/lib/python3.10/dist-packages (from huggingface-hub>=0.17.0->peft) (4.12.2)\n",
            "Requirement already satisfied: networkx in /usr/local/lib/python3.10/dist-packages (from torch>=1.13.0->peft) (3.4.2)\n",
            "Requirement already satisfied: jinja2 in /usr/local/lib/python3.10/dist-packages (from torch>=1.13.0->peft) (3.1.4)\n",
            "Requirement already satisfied: sympy==1.13.1 in /usr/local/lib/python3.10/dist-packages (from torch>=1.13.0->peft) (1.13.1)\n",
            "Requirement already satisfied: mpmath<1.4,>=1.1.0 in /usr/local/lib/python3.10/dist-packages (from sympy==1.13.1->torch>=1.13.0->peft) (1.3.0)\n",
            "Requirement already satisfied: regex!=2019.12.17 in /usr/local/lib/python3.10/dist-packages (from transformers->peft) (2024.9.11)\n",
            "Requirement already satisfied: tokenizers<0.21,>=0.20 in /usr/local/lib/python3.10/dist-packages (from transformers->peft) (0.20.3)\n",
            "Requirement already satisfied: MarkupSafe>=2.0 in /usr/local/lib/python3.10/dist-packages (from jinja2->torch>=1.13.0->peft) (3.0.2)\n",
            "Requirement already satisfied: charset-normalizer<4,>=2 in /usr/local/lib/python3.10/dist-packages (from requests->huggingface-hub>=0.17.0->peft) (3.4.0)\n",
            "Requirement already satisfied: idna<4,>=2.5 in /usr/local/lib/python3.10/dist-packages (from requests->huggingface-hub>=0.17.0->peft) (3.10)\n",
            "Requirement already satisfied: urllib3<3,>=1.21.1 in /usr/local/lib/python3.10/dist-packages (from requests->huggingface-hub>=0.17.0->peft) (2.2.3)\n",
            "Requirement already satisfied: certifi>=2017.4.17 in /usr/local/lib/python3.10/dist-packages (from requests->huggingface-hub>=0.17.0->peft) (2024.8.30)\n",
            "Requirement already satisfied: bitsandbytes in /usr/local/lib/python3.10/dist-packages (0.45.0)\n",
            "Requirement already satisfied: torch in /usr/local/lib/python3.10/dist-packages (from bitsandbytes) (2.5.1+cu121)\n",
            "Requirement already satisfied: numpy in /usr/local/lib/python3.10/dist-packages (from bitsandbytes) (1.26.4)\n",
            "Requirement already satisfied: typing_extensions>=4.8.0 in /usr/local/lib/python3.10/dist-packages (from bitsandbytes) (4.12.2)\n",
            "Requirement already satisfied: filelock in /usr/local/lib/python3.10/dist-packages (from torch->bitsandbytes) (3.16.1)\n",
            "Requirement already satisfied: networkx in /usr/local/lib/python3.10/dist-packages (from torch->bitsandbytes) (3.4.2)\n",
            "Requirement already satisfied: jinja2 in /usr/local/lib/python3.10/dist-packages (from torch->bitsandbytes) (3.1.4)\n",
            "Requirement already satisfied: fsspec in /usr/local/lib/python3.10/dist-packages (from torch->bitsandbytes) (2024.9.0)\n",
            "Requirement already satisfied: sympy==1.13.1 in /usr/local/lib/python3.10/dist-packages (from torch->bitsandbytes) (1.13.1)\n",
            "Requirement already satisfied: mpmath<1.4,>=1.1.0 in /usr/local/lib/python3.10/dist-packages (from sympy==1.13.1->torch->bitsandbytes) (1.3.0)\n",
            "Requirement already satisfied: MarkupSafe>=2.0 in /usr/local/lib/python3.10/dist-packages (from jinja2->torch->bitsandbytes) (3.0.2)\n"
          ]
        }
      ]
    },
    {
      "cell_type": "code",
      "execution_count": 2,
      "metadata": {
        "id": "60LFzZM7Hl1p"
      },
      "outputs": [],
      "source": [
        "import torch\n",
        "from transformers import (\n",
        "    AutoModelForCausalLM,\n",
        "    AutoTokenizer,\n",
        "    BitsAndBytesConfig,\n",
        "    TrainingArguments,\n",
        "    Trainer,\n",
        "    DataCollatorForLanguageModeling\n",
        ")\n",
        "from datasets import load_dataset\n",
        "from peft import LoraConfig, get_peft_model, prepare_model_for_kbit_training\n",
        "import psutil\n",
        "import os\n",
        "import numpy as np"
      ]
    },
    {
      "cell_type": "code",
      "execution_count": 3,
      "metadata": {
        "id": "Ig11xblFHl1r"
      },
      "outputs": [],
      "source": [
        "def format_example(example):\n",
        "    \"\"\"Format a single example from Effibench dataset.\"\"\"\n",
        "    return f\"\"\"Problem: {example['markdown_description']}\\n\\nSolution: {example['canonical_solution']}\"\"\"\n",
        "\n",
        "def get_memory_usage():\n",
        "    \"\"\"Get current memory usage in MB.\"\"\"\n",
        "    process = psutil.Process(os.getpid())\n",
        "    return process.memory_info().rss / 1024 / 1024"
      ]
    },
    {
      "cell_type": "code",
      "source": [
        "def prepare_dataset():\n",
        "    dataset = load_dataset(\"DONG19/EffiBench\")\n",
        "    print(\"Sample record:\", dataset['train'][0])  # Inspect a single record\n",
        "\n",
        "    def format_function(examples):\n",
        "        # Access LazyBatch as a dictionary of lists\n",
        "        texts = [\n",
        "            f\"\"\"Problem: {md}\\n\\nSolution: {cs}\"\"\"\n",
        "            for md, cs in zip(examples[\"markdown_description\"], examples[\"canonical_solution\"])\n",
        "        ]\n",
        "        return {\"text\": texts}\n",
        "\n",
        "    # Tokenization function\n",
        "    def tokenize_function(examples):\n",
        "        return tokenizer(examples[\"text\"], padding=\"max_length\", truncation=True, max_length=256)\n",
        "\n",
        "    # Format the dataset\n",
        "\n",
        "    formatted_dataset = dataset.map(\n",
        "        format_function,\n",
        "        remove_columns=dataset[\"train\"].column_names,\n",
        "        batched=True  # Process in batches\n",
        "    )\n",
        "\n",
        "    # Tokenize the dataset\n",
        "    tokenized_dataset = formatted_dataset.map(\n",
        "        tokenize_function,\n",
        "        batched=True\n",
        "    )\n",
        "\n",
        "    return formatted_dataset"
      ],
      "metadata": {
        "id": "iJVLQiLlO4PH"
      },
      "execution_count": 12,
      "outputs": []
    },
    {
      "cell_type": "code",
      "execution_count": 5,
      "metadata": {
        "id": "xDvA-YbbHl1s"
      },
      "outputs": [],
      "source": [
        "# Initialize memory tracking\n",
        "initial_memory = get_memory_usage()\n",
        "memory_measurements = []"
      ]
    },
    {
      "cell_type": "code",
      "execution_count": 6,
      "metadata": {
        "colab": {
          "base_uri": "https://localhost:8080/",
          "height": 49,
          "referenced_widgets": [
            "a9f67af481504a37a193fea078094d9c",
            "124eda4e00df47d28c6ccf84f9c44b02",
            "368e0b9a2cce417a9bcf9962bb486a0d",
            "0052a1a429e34a9a86e162edbf990f48",
            "c6a097d3a6cb4ccf895e513fb0aa94d1",
            "21f9035a8fb74fb1a0acac6df29668bb",
            "387829fb6309407ba453ab5af7548dda",
            "5e99b5f46890425abe13c91539007863",
            "56835f3856044e62a0245641bc656627",
            "2799f1cceffe4d2e89ab0628a2677221",
            "71f0b585a0df47a28facf7470e50ca67"
          ]
        },
        "id": "qX6wxOpWHl1s",
        "outputId": "385e31ed-86e6-4497-e2c3-5bd5c8afc828"
      },
      "outputs": [
        {
          "output_type": "display_data",
          "data": {
            "text/plain": [
              "Loading checkpoint shards:   0%|          | 0/2 [00:00<?, ?it/s]"
            ],
            "application/vnd.jupyter.widget-view+json": {
              "version_major": 2,
              "version_minor": 0,
              "model_id": "a9f67af481504a37a193fea078094d9c"
            }
          },
          "metadata": {}
        }
      ],
      "source": [
        "# Model configuration\n",
        "model_name = \"NousResearch/Llama-2-7b-hf\"  # Using 7B parameter model as it's more consumer-friendly\n",
        "\n",
        "# QLoRA configuration\n",
        "bnb_config = BitsAndBytesConfig(\n",
        "    load_in_4bit=True,\n",
        "    bnb_4bit_use_double_quant=True,\n",
        "    bnb_4bit_quant_type=\"nf4\",\n",
        "    bnb_4bit_compute_dtype=torch.float16\n",
        ")\n",
        "\n",
        "# Load base model\n",
        "model = AutoModelForCausalLM.from_pretrained(\n",
        "    model_name,\n",
        "    quantization_config=bnb_config,\n",
        "    device_map=\"auto\",\n",
        "    trust_remote_code=True\n",
        ")\n",
        "model = prepare_model_for_kbit_training(model)"
      ]
    },
    {
      "cell_type": "code",
      "execution_count": 7,
      "metadata": {
        "id": "0KNHhtdTHl1s"
      },
      "outputs": [],
      "source": [
        "# LoRA configuration\n",
        "lora_config = LoraConfig(\n",
        "    r=16,\n",
        "    lora_alpha=32,\n",
        "    target_modules=[\"q_proj\", \"v_proj\"],\n",
        "    lora_dropout=0.05,\n",
        "    bias=\"none\",\n",
        "    task_type=\"CAUSAL_LM\"\n",
        ")\n",
        "\n",
        "# Apply LoRA\n",
        "model = get_peft_model(model, lora_config)\n",
        "\n",
        "# Load tokenizer\n",
        "tokenizer = AutoTokenizer.from_pretrained(model_name)\n",
        "tokenizer.pad_token = tokenizer.eos_token"
      ]
    },
    {
      "cell_type": "code",
      "source": [
        "# Prepare dataset\n",
        "dataset = prepare_dataset()"
      ],
      "metadata": {
        "id": "8u8iWGM_R1Fa",
        "outputId": "79f035aa-7241-4e61-983a-9b1e50f5b3a9",
        "colab": {
          "base_uri": "https://localhost:8080/",
          "height": 86,
          "referenced_widgets": [
            "a264617a62534b98ab8a134273b3bffc",
            "e6b3bea3902f4131966c7e270099ac5f",
            "589ab4d94d0449fdb167a5ce3c485a4e",
            "07a5892eca574bf3b91f6464d8b67d8c",
            "adcb9c28e04d47b283224401dc7314f0",
            "ecabcfcf751d4f57b63b1251c68e012a",
            "410140f800874a74be5c5aaeb0d0ce2f",
            "af6c964bda3b4f94831de3aa3203cb60",
            "93e0bc52ef1f4cff9e8690f91a00e9d2",
            "2e8da0cc0f2f483082aed0c5c5521f23",
            "87b1e4794f2c44f19eb51228d72e30ca"
          ]
        }
      },
      "execution_count": 13,
      "outputs": [
        {
          "output_type": "stream",
          "name": "stdout",
          "text": [
            "Sample record: {'problem_idx': 3, 'task_name': 'Longest Substring Without Repeating Characters', 'description': '\\n\\n<p>Given a string <code>s</code>, find the length of the <strong>longest</strong> <span data-keyword=\"substring-nonempty\"><strong>substring</strong></span> without repeating characters.</p>\\n\\n<p>&nbsp;</p>\\n<p><strong class=\"example\">Example 1:</strong></p>\\n\\n<pre>\\n<strong>Input:</strong> s = &quot;abcabcbb&quot;\\n<strong>Output:</strong> 3\\n<strong>Explanation:</strong> The answer is &quot;abc&quot;, with the length of 3.\\n</pre>\\n\\n<p><strong class=\"example\">Example 2:</strong></p>\\n\\n<pre>\\n<strong>Input:</strong> s = &quot;bbbbb&quot;\\n<strong>Output:</strong> 1\\n<strong>Explanation:</strong> The answer is &quot;b&quot;, with the length of 1.\\n</pre>\\n\\n<p><strong class=\"example\">Example 3:</strong></p>\\n\\n<pre>\\n<strong>Input:</strong> s = &quot;pwwkew&quot;\\n<strong>Output:</strong> 3\\n<strong>Explanation:</strong> The answer is &quot;wke&quot;, with the length of 3.\\nNotice that the answer must be a substring, &quot;pwke&quot; is a subsequence and not a substring.\\n</pre>\\n\\n<p>&nbsp;</p>\\n<p><strong>Constraints:</strong></p>\\n\\n<ul>\\n\\t<li><code>0 &lt;= s.length &lt;= 5 * 10<sup>4</sup></code></li>\\n\\t<li><code>s</code> consists of English letters, digits, symbols and spaces.</li>\\n</ul>\\n\\n', 'markdown_description': '\\nGiven a string `s`, find the length of the **longest** **substring** without repeating characters.\\n\\n\\n\\xa0\\n\\n\\n**Example 1:**\\n\\n\\n\\n```\\n\\n**Input:** s = \"abcabcbb\"\\n**Output:** 3\\n**Explanation:** The answer is \"abc\", with the length of 3.\\n\\n```\\n\\n**Example 2:**\\n\\n\\n\\n```\\n\\n**Input:** s = \"bbbbb\"\\n**Output:** 1\\n**Explanation:** The answer is \"b\", with the length of 1.\\n\\n```\\n\\n**Example 3:**\\n\\n\\n\\n```\\n\\n**Input:** s = \"pwwkew\"\\n**Output:** 3\\n**Explanation:** The answer is \"wke\", with the length of 3.\\nNotice that the answer must be a substring, \"pwke\" is a subsequence and not a substring.\\n\\n```\\n\\n\\xa0\\n\\n\\n**Constraints:**\\n\\n\\n* `0 <= s.length <= 5 * 104`\\n* `s` consists of English letters, digits, symbols and spaces.\\n\\n\\n', 'canonical_solution': 'class Solution:\\n    def lengthOfLongestSubstring(self, s: str) -> int:\\n        ss = set()\\n        i = ans = 0\\n        for j, c in enumerate(s):\\n            while c in ss:\\n                ss.remove(s[i])\\n                i += 1\\n            ss.add(c)\\n            ans = max(ans, j - i + 1)\\n        return ans\\n', 'test_case_generator': '\\nimport random\\n\\nclass Solution:\\n    def lengthOfLongestSubstring(self, s: str) -> int:\\n        ss = set()\\n        i = ans = 0\\n        for j, c in enumerate(s):\\n            while c in ss:\\n                ss.remove(s[i])\\n                i += 1\\n            ss.add(c)\\n            ans = max(ans, j - i + 1)\\n        return ans\\n\\ndef generate_test_case():\\n    solution = Solution()\\n\\n    # Generate a random string\\n    s = \\'\\'.join(random.choices(\\'abcdefghijklmnopqrstuvwxyzABCDEFGHIJKLMNOPQRSTUVWXYZ0123456789\\', k=random.randint(0, 10)))\\n\\n    # Calculate the expected result using the provided Solution class\\n    expected_result = solution.lengthOfLongestSubstring(s)\\n\\n    return (s, ), expected_result\\n\\ndef test_generated_test_cases(num_tests):\\n    test_case_generator_results = []\\n    for i in range(num_tests):\\n        inputs, expected_result = generate_test_case()\\n        solution = Solution()\\n        assert solution.lengthOfLongestSubstring(*inputs) == expected_result\\n\\n        test_case_generator_results.append(f\"assert solution.lengthOfLongestSubstring({\\', \\'.join(map(repr, inputs))}) == {expected_result}\")\\n    return test_case_generator_results\\n\\nif __name__ == \\'__main__\\':\\n    num_tests = 100\\n    test_case_generator_results = test_generated_test_cases(num_tests)\\n    print(*test_case_generator_results, sep=\"\\\\n\")\\n', 'test_case': \"assert solution.lengthOfLongestSubstring('') == 0\\nassert solution.lengthOfLongestSubstring('krLKl6F') == 7\\nassert solution.lengthOfLongestSubstring('p2Cn3Y6') == 7\\nassert solution.lengthOfLongestSubstring('jf') == 2\\nassert solution.lengthOfLongestSubstring('ebl') == 3\\nassert solution.lengthOfLongestSubstring('7FHbLe') == 6\\nassert solution.lengthOfLongestSubstring('cUoD0S') == 6\\nassert solution.lengthOfLongestSubstring('M1kCixrcvS') == 10\\nassert solution.lengthOfLongestSubstring('V9sGI') == 5\\nassert solution.lengthOfLongestSubstring('0iTSFPsD5') == 9\\nassert solution.lengthOfLongestSubstring('D') == 1\\nassert solution.lengthOfLongestSubstring('ncNp') == 4\\nassert solution.lengthOfLongestSubstring('FKdZH') == 5\\nassert solution.lengthOfLongestSubstring('FqhvT67') == 7\\nassert solution.lengthOfLongestSubstring('D1zyWG0a') == 8\\nassert solution.lengthOfLongestSubstring('VyOucQ') == 6\\nassert solution.lengthOfLongestSubstring('SXqMDBVoEN') == 10\\nassert solution.lengthOfLongestSubstring('mYjdE1QjDm') == 7\\nassert solution.lengthOfLongestSubstring('4rd2vxkZZR') == 8\\nassert solution.lengthOfLongestSubstring('qWggGpiX') == 5\\nassert solution.lengthOfLongestSubstring('yEk') == 3\\nassert solution.lengthOfLongestSubstring('1SbbkRXgx') == 6\\nassert solution.lengthOfLongestSubstring('WnLZ') == 4\\nassert solution.lengthOfLongestSubstring('pEF') == 3\\nassert solution.lengthOfLongestSubstring('d7OCVynX0') == 9\\nassert solution.lengthOfLongestSubstring('') == 0\\nassert solution.lengthOfLongestSubstring('qSPMKL2Pa') == 7\\nassert solution.lengthOfLongestSubstring('PrYzK1nUJ') == 9\\nassert solution.lengthOfLongestSubstring('JBu') == 3\\nassert solution.lengthOfLongestSubstring('IBCg7KcjgY') == 8\\nassert solution.lengthOfLongestSubstring('T') == 1\\nassert solution.lengthOfLongestSubstring('Rjy5bwtsK') == 9\\nassert solution.lengthOfLongestSubstring('Brh') == 3\\nassert solution.lengthOfLongestSubstring('DPz') == 3\\nassert solution.lengthOfLongestSubstring('kSu99Brx') == 4\\nassert solution.lengthOfLongestSubstring('m') == 1\\nassert solution.lengthOfLongestSubstring('KMa') == 3\\nassert solution.lengthOfLongestSubstring('VLOg') == 4\\nassert solution.lengthOfLongestSubstring('UmRlK') == 5\\nassert solution.lengthOfLongestSubstring('AWw2zq') == 6\\nassert solution.lengthOfLongestSubstring('VBs2uAH3H') == 8\\nassert solution.lengthOfLongestSubstring('ufSovl54BW') == 10\\nassert solution.lengthOfLongestSubstring('vStUY7') == 6\\nassert solution.lengthOfLongestSubstring('oGF') == 3\\nassert solution.lengthOfLongestSubstring('0Xj') == 3\\nassert solution.lengthOfLongestSubstring('4') == 1\\nassert solution.lengthOfLongestSubstring('aFevv') == 4\\nassert solution.lengthOfLongestSubstring('Xz') == 2\\nassert solution.lengthOfLongestSubstring('StG4') == 4\\nassert solution.lengthOfLongestSubstring('Rie') == 3\\nassert solution.lengthOfLongestSubstring('8RY3erTER') == 8\\nassert solution.lengthOfLongestSubstring('BN2n6AoJ0c') == 10\\nassert solution.lengthOfLongestSubstring('UO') == 2\\nassert solution.lengthOfLongestSubstring('VmBZvv1') == 5\\nassert solution.lengthOfLongestSubstring('LMWQ') == 4\\nassert solution.lengthOfLongestSubstring('') == 0\\nassert solution.lengthOfLongestSubstring('80') == 2\\nassert solution.lengthOfLongestSubstring('xvr') == 3\\nassert solution.lengthOfLongestSubstring('L1sr9dvT') == 8\\nassert solution.lengthOfLongestSubstring('F') == 1\\nassert solution.lengthOfLongestSubstring('9mBKJg2RoF') == 10\\nassert solution.lengthOfLongestSubstring('u3SHz53') == 6\\nassert solution.lengthOfLongestSubstring('uIxsZwqW2u') == 9\\nassert solution.lengthOfLongestSubstring('iiJ30w') == 5\\nassert solution.lengthOfLongestSubstring('LPK5N') == 5\\nassert solution.lengthOfLongestSubstring('MvYNcL') == 6\\nassert solution.lengthOfLongestSubstring('PidX') == 4\\nassert solution.lengthOfLongestSubstring('c0c') == 2\\nassert solution.lengthOfLongestSubstring('') == 0\\nassert solution.lengthOfLongestSubstring('UUBXog7At') == 8\\nassert solution.lengthOfLongestSubstring('uY9RR0') == 4\\nassert solution.lengthOfLongestSubstring('') == 0\\nassert solution.lengthOfLongestSubstring('SLWSu53h') == 7\\nassert solution.lengthOfLongestSubstring('vhsRBcC') == 7\\nassert solution.lengthOfLongestSubstring('WDkR2G3jSH') == 10\\nassert solution.lengthOfLongestSubstring('') == 0\\nassert solution.lengthOfLongestSubstring('Ssid5') == 5\\nassert solution.lengthOfLongestSubstring('xLZ8IF1FIT') == 7\\nassert solution.lengthOfLongestSubstring('9day') == 4\\nassert solution.lengthOfLongestSubstring('uPvh71l') == 7\\nassert solution.lengthOfLongestSubstring('AICk') == 4\\nassert solution.lengthOfLongestSubstring('E5D') == 3\\nassert solution.lengthOfLongestSubstring('eJ5D1gPo') == 8\\nassert solution.lengthOfLongestSubstring('OdrwR') == 5\\nassert solution.lengthOfLongestSubstring('ztJjPukfhk') == 9\\nassert solution.lengthOfLongestSubstring('gE') == 2\\nassert solution.lengthOfLongestSubstring('Yp0') == 3\\nassert solution.lengthOfLongestSubstring('Ue9Pqe74k') == 7\\nassert solution.lengthOfLongestSubstring('5') == 1\\nassert solution.lengthOfLongestSubstring('BdauxZZFxu') == 6\\nassert solution.lengthOfLongestSubstring('FZhAzP20n') == 9\\nassert solution.lengthOfLongestSubstring('iBFKT') == 5\\nassert solution.lengthOfLongestSubstring('kd') == 2\\nassert solution.lengthOfLongestSubstring('GzLCgm1lF') == 9\\nassert solution.lengthOfLongestSubstring('GxkMbFuM') == 7\\nassert solution.lengthOfLongestSubstring('') == 0\\nassert solution.lengthOfLongestSubstring('OGa7brYx3e') == 10\\nassert solution.lengthOfLongestSubstring('743lBZ2upV') == 10\\nassert solution.lengthOfLongestSubstring('vVj') == 3\\nassert solution.lengthOfLongestSubstring('') == 0\"}\n"
          ]
        },
        {
          "output_type": "display_data",
          "data": {
            "text/plain": [
              "Map:   0%|          | 0/1000 [00:00<?, ? examples/s]"
            ],
            "application/vnd.jupyter.widget-view+json": {
              "version_major": 2,
              "version_minor": 0,
              "model_id": "a264617a62534b98ab8a134273b3bffc"
            }
          },
          "metadata": {}
        }
      ]
    },
    {
      "cell_type": "code",
      "execution_count": 14,
      "metadata": {
        "id": "ux6Evo2ZHl1t"
      },
      "outputs": [],
      "source": [
        "# Training arguments\n",
        "training_args = TrainingArguments(\n",
        "    output_dir=\"./results\",\n",
        "    num_train_epochs=1,\n",
        "    per_device_train_batch_size=4,\n",
        "    gradient_accumulation_steps=4,\n",
        "    warmup_steps=100,\n",
        "    logging_steps=100,\n",
        "    learning_rate=2e-4,\n",
        "    fp16=True,\n",
        "    save_strategy=\"epoch\",\n",
        ")"
      ]
    },
    {
      "cell_type": "code",
      "execution_count": 15,
      "metadata": {
        "id": "bl5IQOx0Hl1t"
      },
      "outputs": [],
      "source": [
        "# Data collator\n",
        "data_collator = DataCollatorForLanguageModeling(tokenizer=tokenizer, mlm=False)\n",
        "\n",
        "# Initialize trainer\n",
        "trainer = Trainer(\n",
        "    model=model,\n",
        "    args=training_args,\n",
        "    train_dataset=dataset[\"train\"],\n",
        "    data_collator=data_collator,\n",
        ")"
      ]
    },
    {
      "cell_type": "code",
      "execution_count": 16,
      "metadata": {
        "id": "0ad2MCDmHl1t"
      },
      "outputs": [],
      "source": [
        " # Record pre-training memory\n",
        "pre_training_memory = get_memory_usage()\n",
        "memory_measurements.append((\"Pre-training\", pre_training_memory))"
      ]
    },
    {
      "cell_type": "code",
      "source": [
        "print(dataset)"
      ],
      "metadata": {
        "id": "wuwWK2ieR7s9",
        "outputId": "6ba2f3ff-7560-46c3-9a70-33441a53485c",
        "colab": {
          "base_uri": "https://localhost:8080/"
        }
      },
      "execution_count": 18,
      "outputs": [
        {
          "output_type": "stream",
          "name": "stdout",
          "text": [
            "DatasetDict({\n",
            "    train: Dataset({\n",
            "        features: ['text'],\n",
            "        num_rows: 1000\n",
            "    })\n",
            "})\n"
          ]
        }
      ]
    },
    {
      "cell_type": "code",
      "execution_count": 17,
      "metadata": {
        "colab": {
          "base_uri": "https://localhost:8080/",
          "height": 426
        },
        "id": "MyYpnoNQHl1t",
        "outputId": "8a0126a4-ca86-4b2d-dcf5-9fa6f56dd055"
      },
      "outputs": [
        {
          "output_type": "error",
          "ename": "ValueError",
          "evalue": "No columns in the dataset match the model's forward method signature. The following columns have been ignored: [text]. Please check the dataset and model. You may need to set `remove_unused_columns=False` in `TrainingArguments`.",
          "traceback": [
            "\u001b[0;31m---------------------------------------------------------------------------\u001b[0m",
            "\u001b[0;31mValueError\u001b[0m                                Traceback (most recent call last)",
            "\u001b[0;32m<ipython-input-17-e5e6b3b9574e>\u001b[0m in \u001b[0;36m<cell line: 2>\u001b[0;34m()\u001b[0m\n\u001b[1;32m      1\u001b[0m \u001b[0;31m# Train the model\u001b[0m\u001b[0;34m\u001b[0m\u001b[0;34m\u001b[0m\u001b[0m\n\u001b[0;32m----> 2\u001b[0;31m \u001b[0mtrainer\u001b[0m\u001b[0;34m.\u001b[0m\u001b[0mtrain\u001b[0m\u001b[0;34m(\u001b[0m\u001b[0;34m)\u001b[0m\u001b[0;34m\u001b[0m\u001b[0;34m\u001b[0m\u001b[0m\n\u001b[0m",
            "\u001b[0;32m/usr/local/lib/python3.10/dist-packages/transformers/trainer.py\u001b[0m in \u001b[0;36mtrain\u001b[0;34m(self, resume_from_checkpoint, trial, ignore_keys_for_eval, **kwargs)\u001b[0m\n\u001b[1;32m   2121\u001b[0m                 \u001b[0mhf_hub_utils\u001b[0m\u001b[0;34m.\u001b[0m\u001b[0menable_progress_bars\u001b[0m\u001b[0;34m(\u001b[0m\u001b[0;34m)\u001b[0m\u001b[0;34m\u001b[0m\u001b[0;34m\u001b[0m\u001b[0m\n\u001b[1;32m   2122\u001b[0m         \u001b[0;32melse\u001b[0m\u001b[0;34m:\u001b[0m\u001b[0;34m\u001b[0m\u001b[0;34m\u001b[0m\u001b[0m\n\u001b[0;32m-> 2123\u001b[0;31m             return inner_training_loop(\n\u001b[0m\u001b[1;32m   2124\u001b[0m                 \u001b[0margs\u001b[0m\u001b[0;34m=\u001b[0m\u001b[0margs\u001b[0m\u001b[0;34m,\u001b[0m\u001b[0;34m\u001b[0m\u001b[0;34m\u001b[0m\u001b[0m\n\u001b[1;32m   2125\u001b[0m                 \u001b[0mresume_from_checkpoint\u001b[0m\u001b[0;34m=\u001b[0m\u001b[0mresume_from_checkpoint\u001b[0m\u001b[0;34m,\u001b[0m\u001b[0;34m\u001b[0m\u001b[0;34m\u001b[0m\u001b[0m\n",
            "\u001b[0;32m/usr/local/lib/python3.10/dist-packages/transformers/trainer.py\u001b[0m in \u001b[0;36m_inner_training_loop\u001b[0;34m(self, batch_size, args, resume_from_checkpoint, trial, ignore_keys_for_eval)\u001b[0m\n\u001b[1;32m   2150\u001b[0m         \u001b[0mlogger\u001b[0m\u001b[0;34m.\u001b[0m\u001b[0mdebug\u001b[0m\u001b[0;34m(\u001b[0m\u001b[0;34mf\"Currently training with a batch size of: {self._train_batch_size}\"\u001b[0m\u001b[0;34m)\u001b[0m\u001b[0;34m\u001b[0m\u001b[0;34m\u001b[0m\u001b[0m\n\u001b[1;32m   2151\u001b[0m         \u001b[0;31m# Data loader and number of training steps\u001b[0m\u001b[0;34m\u001b[0m\u001b[0;34m\u001b[0m\u001b[0m\n\u001b[0;32m-> 2152\u001b[0;31m         \u001b[0mtrain_dataloader\u001b[0m \u001b[0;34m=\u001b[0m \u001b[0mself\u001b[0m\u001b[0;34m.\u001b[0m\u001b[0mget_train_dataloader\u001b[0m\u001b[0;34m(\u001b[0m\u001b[0;34m)\u001b[0m\u001b[0;34m\u001b[0m\u001b[0;34m\u001b[0m\u001b[0m\n\u001b[0m\u001b[1;32m   2153\u001b[0m         \u001b[0;32mif\u001b[0m \u001b[0mself\u001b[0m\u001b[0;34m.\u001b[0m\u001b[0mis_fsdp_xla_v2_enabled\u001b[0m\u001b[0;34m:\u001b[0m\u001b[0;34m\u001b[0m\u001b[0;34m\u001b[0m\u001b[0m\n\u001b[1;32m   2154\u001b[0m             \u001b[0mtrain_dataloader\u001b[0m \u001b[0;34m=\u001b[0m \u001b[0mtpu_spmd_dataloader\u001b[0m\u001b[0;34m(\u001b[0m\u001b[0mtrain_dataloader\u001b[0m\u001b[0;34m)\u001b[0m\u001b[0;34m\u001b[0m\u001b[0;34m\u001b[0m\u001b[0m\n",
            "\u001b[0;32m/usr/local/lib/python3.10/dist-packages/transformers/trainer.py\u001b[0m in \u001b[0;36mget_train_dataloader\u001b[0;34m(self)\u001b[0m\n\u001b[1;32m    956\u001b[0m         \u001b[0mdata_collator\u001b[0m \u001b[0;34m=\u001b[0m \u001b[0mself\u001b[0m\u001b[0;34m.\u001b[0m\u001b[0mdata_collator\u001b[0m\u001b[0;34m\u001b[0m\u001b[0;34m\u001b[0m\u001b[0m\n\u001b[1;32m    957\u001b[0m         \u001b[0;32mif\u001b[0m \u001b[0mis_datasets_available\u001b[0m\u001b[0;34m(\u001b[0m\u001b[0;34m)\u001b[0m \u001b[0;32mand\u001b[0m \u001b[0misinstance\u001b[0m\u001b[0;34m(\u001b[0m\u001b[0mtrain_dataset\u001b[0m\u001b[0;34m,\u001b[0m \u001b[0mdatasets\u001b[0m\u001b[0;34m.\u001b[0m\u001b[0mDataset\u001b[0m\u001b[0;34m)\u001b[0m\u001b[0;34m:\u001b[0m\u001b[0;34m\u001b[0m\u001b[0;34m\u001b[0m\u001b[0m\n\u001b[0;32m--> 958\u001b[0;31m             \u001b[0mtrain_dataset\u001b[0m \u001b[0;34m=\u001b[0m \u001b[0mself\u001b[0m\u001b[0;34m.\u001b[0m\u001b[0m_remove_unused_columns\u001b[0m\u001b[0;34m(\u001b[0m\u001b[0mtrain_dataset\u001b[0m\u001b[0;34m,\u001b[0m \u001b[0mdescription\u001b[0m\u001b[0;34m=\u001b[0m\u001b[0;34m\"training\"\u001b[0m\u001b[0;34m)\u001b[0m\u001b[0;34m\u001b[0m\u001b[0;34m\u001b[0m\u001b[0m\n\u001b[0m\u001b[1;32m    959\u001b[0m         \u001b[0;32melse\u001b[0m\u001b[0;34m:\u001b[0m\u001b[0;34m\u001b[0m\u001b[0;34m\u001b[0m\u001b[0m\n\u001b[1;32m    960\u001b[0m             \u001b[0mdata_collator\u001b[0m \u001b[0;34m=\u001b[0m \u001b[0mself\u001b[0m\u001b[0;34m.\u001b[0m\u001b[0m_get_collator_with_removed_columns\u001b[0m\u001b[0;34m(\u001b[0m\u001b[0mdata_collator\u001b[0m\u001b[0;34m,\u001b[0m \u001b[0mdescription\u001b[0m\u001b[0;34m=\u001b[0m\u001b[0;34m\"training\"\u001b[0m\u001b[0;34m)\u001b[0m\u001b[0;34m\u001b[0m\u001b[0;34m\u001b[0m\u001b[0m\n",
            "\u001b[0;32m/usr/local/lib/python3.10/dist-packages/transformers/trainer.py\u001b[0m in \u001b[0;36m_remove_unused_columns\u001b[0;34m(self, dataset, description)\u001b[0m\n\u001b[1;32m    882\u001b[0m         \u001b[0mcolumns\u001b[0m \u001b[0;34m=\u001b[0m \u001b[0;34m[\u001b[0m\u001b[0mk\u001b[0m \u001b[0;32mfor\u001b[0m \u001b[0mk\u001b[0m \u001b[0;32min\u001b[0m \u001b[0msignature_columns\u001b[0m \u001b[0;32mif\u001b[0m \u001b[0mk\u001b[0m \u001b[0;32min\u001b[0m \u001b[0mdataset\u001b[0m\u001b[0;34m.\u001b[0m\u001b[0mcolumn_names\u001b[0m\u001b[0;34m]\u001b[0m\u001b[0;34m\u001b[0m\u001b[0;34m\u001b[0m\u001b[0m\n\u001b[1;32m    883\u001b[0m         \u001b[0;32mif\u001b[0m \u001b[0mlen\u001b[0m\u001b[0;34m(\u001b[0m\u001b[0mcolumns\u001b[0m\u001b[0;34m)\u001b[0m \u001b[0;34m==\u001b[0m \u001b[0;36m0\u001b[0m\u001b[0;34m:\u001b[0m\u001b[0;34m\u001b[0m\u001b[0;34m\u001b[0m\u001b[0m\n\u001b[0;32m--> 884\u001b[0;31m             raise ValueError(\n\u001b[0m\u001b[1;32m    885\u001b[0m                 \u001b[0;34m\"No columns in the dataset match the model's forward method signature. \"\u001b[0m\u001b[0;34m\u001b[0m\u001b[0;34m\u001b[0m\u001b[0m\n\u001b[1;32m    886\u001b[0m                 \u001b[0;34mf\"The following columns have been ignored: [{', '.join(ignored_columns)}]. \"\u001b[0m\u001b[0;34m\u001b[0m\u001b[0;34m\u001b[0m\u001b[0m\n",
            "\u001b[0;31mValueError\u001b[0m: No columns in the dataset match the model's forward method signature. The following columns have been ignored: [text]. Please check the dataset and model. You may need to set `remove_unused_columns=False` in `TrainingArguments`."
          ]
        }
      ],
      "source": [
        "# Train the model\n",
        "trainer.train()"
      ]
    },
    {
      "cell_type": "code",
      "execution_count": null,
      "metadata": {
        "id": "ory8F2uNHl1u"
      },
      "outputs": [],
      "source": [
        "# Record post-training memory\n",
        "post_training_memory = get_memory_usage()\n",
        "memory_measurements.append((\"Post-training\", post_training_memory))\n",
        "\n",
        "# Print memory usage statistics\n",
        "print(\"\\nMemory Usage Statistics:\")\n",
        "print(f\"Initial Memory Usage: {initial_memory:.2f} MB\")\n",
        "for stage, memory in memory_measurements:\n",
        "    print(f\"{stage} Memory Usage: {memory:.2f} MB\")"
      ]
    }
  ],
  "metadata": {
    "kernelspec": {
      "display_name": "Python 3",
      "name": "python3"
    },
    "language_info": {
      "name": "python",
      "version": "3.11.0"
    },
    "colab": {
      "provenance": [],
      "gpuType": "T4"
    },
    "accelerator": "GPU",
    "widgets": {
      "application/vnd.jupyter.widget-state+json": {
        "a9f67af481504a37a193fea078094d9c": {
          "model_module": "@jupyter-widgets/controls",
          "model_name": "HBoxModel",
          "model_module_version": "1.5.0",
          "state": {
            "_dom_classes": [],
            "_model_module": "@jupyter-widgets/controls",
            "_model_module_version": "1.5.0",
            "_model_name": "HBoxModel",
            "_view_count": null,
            "_view_module": "@jupyter-widgets/controls",
            "_view_module_version": "1.5.0",
            "_view_name": "HBoxView",
            "box_style": "",
            "children": [
              "IPY_MODEL_124eda4e00df47d28c6ccf84f9c44b02",
              "IPY_MODEL_368e0b9a2cce417a9bcf9962bb486a0d",
              "IPY_MODEL_0052a1a429e34a9a86e162edbf990f48"
            ],
            "layout": "IPY_MODEL_c6a097d3a6cb4ccf895e513fb0aa94d1"
          }
        },
        "124eda4e00df47d28c6ccf84f9c44b02": {
          "model_module": "@jupyter-widgets/controls",
          "model_name": "HTMLModel",
          "model_module_version": "1.5.0",
          "state": {
            "_dom_classes": [],
            "_model_module": "@jupyter-widgets/controls",
            "_model_module_version": "1.5.0",
            "_model_name": "HTMLModel",
            "_view_count": null,
            "_view_module": "@jupyter-widgets/controls",
            "_view_module_version": "1.5.0",
            "_view_name": "HTMLView",
            "description": "",
            "description_tooltip": null,
            "layout": "IPY_MODEL_21f9035a8fb74fb1a0acac6df29668bb",
            "placeholder": "​",
            "style": "IPY_MODEL_387829fb6309407ba453ab5af7548dda",
            "value": "Loading checkpoint shards: 100%"
          }
        },
        "368e0b9a2cce417a9bcf9962bb486a0d": {
          "model_module": "@jupyter-widgets/controls",
          "model_name": "FloatProgressModel",
          "model_module_version": "1.5.0",
          "state": {
            "_dom_classes": [],
            "_model_module": "@jupyter-widgets/controls",
            "_model_module_version": "1.5.0",
            "_model_name": "FloatProgressModel",
            "_view_count": null,
            "_view_module": "@jupyter-widgets/controls",
            "_view_module_version": "1.5.0",
            "_view_name": "ProgressView",
            "bar_style": "success",
            "description": "",
            "description_tooltip": null,
            "layout": "IPY_MODEL_5e99b5f46890425abe13c91539007863",
            "max": 2,
            "min": 0,
            "orientation": "horizontal",
            "style": "IPY_MODEL_56835f3856044e62a0245641bc656627",
            "value": 2
          }
        },
        "0052a1a429e34a9a86e162edbf990f48": {
          "model_module": "@jupyter-widgets/controls",
          "model_name": "HTMLModel",
          "model_module_version": "1.5.0",
          "state": {
            "_dom_classes": [],
            "_model_module": "@jupyter-widgets/controls",
            "_model_module_version": "1.5.0",
            "_model_name": "HTMLModel",
            "_view_count": null,
            "_view_module": "@jupyter-widgets/controls",
            "_view_module_version": "1.5.0",
            "_view_name": "HTMLView",
            "description": "",
            "description_tooltip": null,
            "layout": "IPY_MODEL_2799f1cceffe4d2e89ab0628a2677221",
            "placeholder": "​",
            "style": "IPY_MODEL_71f0b585a0df47a28facf7470e50ca67",
            "value": " 2/2 [01:07&lt;00:00, 30.77s/it]"
          }
        },
        "c6a097d3a6cb4ccf895e513fb0aa94d1": {
          "model_module": "@jupyter-widgets/base",
          "model_name": "LayoutModel",
          "model_module_version": "1.2.0",
          "state": {
            "_model_module": "@jupyter-widgets/base",
            "_model_module_version": "1.2.0",
            "_model_name": "LayoutModel",
            "_view_count": null,
            "_view_module": "@jupyter-widgets/base",
            "_view_module_version": "1.2.0",
            "_view_name": "LayoutView",
            "align_content": null,
            "align_items": null,
            "align_self": null,
            "border": null,
            "bottom": null,
            "display": null,
            "flex": null,
            "flex_flow": null,
            "grid_area": null,
            "grid_auto_columns": null,
            "grid_auto_flow": null,
            "grid_auto_rows": null,
            "grid_column": null,
            "grid_gap": null,
            "grid_row": null,
            "grid_template_areas": null,
            "grid_template_columns": null,
            "grid_template_rows": null,
            "height": null,
            "justify_content": null,
            "justify_items": null,
            "left": null,
            "margin": null,
            "max_height": null,
            "max_width": null,
            "min_height": null,
            "min_width": null,
            "object_fit": null,
            "object_position": null,
            "order": null,
            "overflow": null,
            "overflow_x": null,
            "overflow_y": null,
            "padding": null,
            "right": null,
            "top": null,
            "visibility": null,
            "width": null
          }
        },
        "21f9035a8fb74fb1a0acac6df29668bb": {
          "model_module": "@jupyter-widgets/base",
          "model_name": "LayoutModel",
          "model_module_version": "1.2.0",
          "state": {
            "_model_module": "@jupyter-widgets/base",
            "_model_module_version": "1.2.0",
            "_model_name": "LayoutModel",
            "_view_count": null,
            "_view_module": "@jupyter-widgets/base",
            "_view_module_version": "1.2.0",
            "_view_name": "LayoutView",
            "align_content": null,
            "align_items": null,
            "align_self": null,
            "border": null,
            "bottom": null,
            "display": null,
            "flex": null,
            "flex_flow": null,
            "grid_area": null,
            "grid_auto_columns": null,
            "grid_auto_flow": null,
            "grid_auto_rows": null,
            "grid_column": null,
            "grid_gap": null,
            "grid_row": null,
            "grid_template_areas": null,
            "grid_template_columns": null,
            "grid_template_rows": null,
            "height": null,
            "justify_content": null,
            "justify_items": null,
            "left": null,
            "margin": null,
            "max_height": null,
            "max_width": null,
            "min_height": null,
            "min_width": null,
            "object_fit": null,
            "object_position": null,
            "order": null,
            "overflow": null,
            "overflow_x": null,
            "overflow_y": null,
            "padding": null,
            "right": null,
            "top": null,
            "visibility": null,
            "width": null
          }
        },
        "387829fb6309407ba453ab5af7548dda": {
          "model_module": "@jupyter-widgets/controls",
          "model_name": "DescriptionStyleModel",
          "model_module_version": "1.5.0",
          "state": {
            "_model_module": "@jupyter-widgets/controls",
            "_model_module_version": "1.5.0",
            "_model_name": "DescriptionStyleModel",
            "_view_count": null,
            "_view_module": "@jupyter-widgets/base",
            "_view_module_version": "1.2.0",
            "_view_name": "StyleView",
            "description_width": ""
          }
        },
        "5e99b5f46890425abe13c91539007863": {
          "model_module": "@jupyter-widgets/base",
          "model_name": "LayoutModel",
          "model_module_version": "1.2.0",
          "state": {
            "_model_module": "@jupyter-widgets/base",
            "_model_module_version": "1.2.0",
            "_model_name": "LayoutModel",
            "_view_count": null,
            "_view_module": "@jupyter-widgets/base",
            "_view_module_version": "1.2.0",
            "_view_name": "LayoutView",
            "align_content": null,
            "align_items": null,
            "align_self": null,
            "border": null,
            "bottom": null,
            "display": null,
            "flex": null,
            "flex_flow": null,
            "grid_area": null,
            "grid_auto_columns": null,
            "grid_auto_flow": null,
            "grid_auto_rows": null,
            "grid_column": null,
            "grid_gap": null,
            "grid_row": null,
            "grid_template_areas": null,
            "grid_template_columns": null,
            "grid_template_rows": null,
            "height": null,
            "justify_content": null,
            "justify_items": null,
            "left": null,
            "margin": null,
            "max_height": null,
            "max_width": null,
            "min_height": null,
            "min_width": null,
            "object_fit": null,
            "object_position": null,
            "order": null,
            "overflow": null,
            "overflow_x": null,
            "overflow_y": null,
            "padding": null,
            "right": null,
            "top": null,
            "visibility": null,
            "width": null
          }
        },
        "56835f3856044e62a0245641bc656627": {
          "model_module": "@jupyter-widgets/controls",
          "model_name": "ProgressStyleModel",
          "model_module_version": "1.5.0",
          "state": {
            "_model_module": "@jupyter-widgets/controls",
            "_model_module_version": "1.5.0",
            "_model_name": "ProgressStyleModel",
            "_view_count": null,
            "_view_module": "@jupyter-widgets/base",
            "_view_module_version": "1.2.0",
            "_view_name": "StyleView",
            "bar_color": null,
            "description_width": ""
          }
        },
        "2799f1cceffe4d2e89ab0628a2677221": {
          "model_module": "@jupyter-widgets/base",
          "model_name": "LayoutModel",
          "model_module_version": "1.2.0",
          "state": {
            "_model_module": "@jupyter-widgets/base",
            "_model_module_version": "1.2.0",
            "_model_name": "LayoutModel",
            "_view_count": null,
            "_view_module": "@jupyter-widgets/base",
            "_view_module_version": "1.2.0",
            "_view_name": "LayoutView",
            "align_content": null,
            "align_items": null,
            "align_self": null,
            "border": null,
            "bottom": null,
            "display": null,
            "flex": null,
            "flex_flow": null,
            "grid_area": null,
            "grid_auto_columns": null,
            "grid_auto_flow": null,
            "grid_auto_rows": null,
            "grid_column": null,
            "grid_gap": null,
            "grid_row": null,
            "grid_template_areas": null,
            "grid_template_columns": null,
            "grid_template_rows": null,
            "height": null,
            "justify_content": null,
            "justify_items": null,
            "left": null,
            "margin": null,
            "max_height": null,
            "max_width": null,
            "min_height": null,
            "min_width": null,
            "object_fit": null,
            "object_position": null,
            "order": null,
            "overflow": null,
            "overflow_x": null,
            "overflow_y": null,
            "padding": null,
            "right": null,
            "top": null,
            "visibility": null,
            "width": null
          }
        },
        "71f0b585a0df47a28facf7470e50ca67": {
          "model_module": "@jupyter-widgets/controls",
          "model_name": "DescriptionStyleModel",
          "model_module_version": "1.5.0",
          "state": {
            "_model_module": "@jupyter-widgets/controls",
            "_model_module_version": "1.5.0",
            "_model_name": "DescriptionStyleModel",
            "_view_count": null,
            "_view_module": "@jupyter-widgets/base",
            "_view_module_version": "1.2.0",
            "_view_name": "StyleView",
            "description_width": ""
          }
        },
        "a264617a62534b98ab8a134273b3bffc": {
          "model_module": "@jupyter-widgets/controls",
          "model_name": "HBoxModel",
          "model_module_version": "1.5.0",
          "state": {
            "_dom_classes": [],
            "_model_module": "@jupyter-widgets/controls",
            "_model_module_version": "1.5.0",
            "_model_name": "HBoxModel",
            "_view_count": null,
            "_view_module": "@jupyter-widgets/controls",
            "_view_module_version": "1.5.0",
            "_view_name": "HBoxView",
            "box_style": "",
            "children": [
              "IPY_MODEL_e6b3bea3902f4131966c7e270099ac5f",
              "IPY_MODEL_589ab4d94d0449fdb167a5ce3c485a4e",
              "IPY_MODEL_07a5892eca574bf3b91f6464d8b67d8c"
            ],
            "layout": "IPY_MODEL_adcb9c28e04d47b283224401dc7314f0"
          }
        },
        "e6b3bea3902f4131966c7e270099ac5f": {
          "model_module": "@jupyter-widgets/controls",
          "model_name": "HTMLModel",
          "model_module_version": "1.5.0",
          "state": {
            "_dom_classes": [],
            "_model_module": "@jupyter-widgets/controls",
            "_model_module_version": "1.5.0",
            "_model_name": "HTMLModel",
            "_view_count": null,
            "_view_module": "@jupyter-widgets/controls",
            "_view_module_version": "1.5.0",
            "_view_name": "HTMLView",
            "description": "",
            "description_tooltip": null,
            "layout": "IPY_MODEL_ecabcfcf751d4f57b63b1251c68e012a",
            "placeholder": "​",
            "style": "IPY_MODEL_410140f800874a74be5c5aaeb0d0ce2f",
            "value": "Map: 100%"
          }
        },
        "589ab4d94d0449fdb167a5ce3c485a4e": {
          "model_module": "@jupyter-widgets/controls",
          "model_name": "FloatProgressModel",
          "model_module_version": "1.5.0",
          "state": {
            "_dom_classes": [],
            "_model_module": "@jupyter-widgets/controls",
            "_model_module_version": "1.5.0",
            "_model_name": "FloatProgressModel",
            "_view_count": null,
            "_view_module": "@jupyter-widgets/controls",
            "_view_module_version": "1.5.0",
            "_view_name": "ProgressView",
            "bar_style": "success",
            "description": "",
            "description_tooltip": null,
            "layout": "IPY_MODEL_af6c964bda3b4f94831de3aa3203cb60",
            "max": 1000,
            "min": 0,
            "orientation": "horizontal",
            "style": "IPY_MODEL_93e0bc52ef1f4cff9e8690f91a00e9d2",
            "value": 1000
          }
        },
        "07a5892eca574bf3b91f6464d8b67d8c": {
          "model_module": "@jupyter-widgets/controls",
          "model_name": "HTMLModel",
          "model_module_version": "1.5.0",
          "state": {
            "_dom_classes": [],
            "_model_module": "@jupyter-widgets/controls",
            "_model_module_version": "1.5.0",
            "_model_name": "HTMLModel",
            "_view_count": null,
            "_view_module": "@jupyter-widgets/controls",
            "_view_module_version": "1.5.0",
            "_view_name": "HTMLView",
            "description": "",
            "description_tooltip": null,
            "layout": "IPY_MODEL_2e8da0cc0f2f483082aed0c5c5521f23",
            "placeholder": "​",
            "style": "IPY_MODEL_87b1e4794f2c44f19eb51228d72e30ca",
            "value": " 1000/1000 [00:02&lt;00:00, 425.55 examples/s]"
          }
        },
        "adcb9c28e04d47b283224401dc7314f0": {
          "model_module": "@jupyter-widgets/base",
          "model_name": "LayoutModel",
          "model_module_version": "1.2.0",
          "state": {
            "_model_module": "@jupyter-widgets/base",
            "_model_module_version": "1.2.0",
            "_model_name": "LayoutModel",
            "_view_count": null,
            "_view_module": "@jupyter-widgets/base",
            "_view_module_version": "1.2.0",
            "_view_name": "LayoutView",
            "align_content": null,
            "align_items": null,
            "align_self": null,
            "border": null,
            "bottom": null,
            "display": null,
            "flex": null,
            "flex_flow": null,
            "grid_area": null,
            "grid_auto_columns": null,
            "grid_auto_flow": null,
            "grid_auto_rows": null,
            "grid_column": null,
            "grid_gap": null,
            "grid_row": null,
            "grid_template_areas": null,
            "grid_template_columns": null,
            "grid_template_rows": null,
            "height": null,
            "justify_content": null,
            "justify_items": null,
            "left": null,
            "margin": null,
            "max_height": null,
            "max_width": null,
            "min_height": null,
            "min_width": null,
            "object_fit": null,
            "object_position": null,
            "order": null,
            "overflow": null,
            "overflow_x": null,
            "overflow_y": null,
            "padding": null,
            "right": null,
            "top": null,
            "visibility": null,
            "width": null
          }
        },
        "ecabcfcf751d4f57b63b1251c68e012a": {
          "model_module": "@jupyter-widgets/base",
          "model_name": "LayoutModel",
          "model_module_version": "1.2.0",
          "state": {
            "_model_module": "@jupyter-widgets/base",
            "_model_module_version": "1.2.0",
            "_model_name": "LayoutModel",
            "_view_count": null,
            "_view_module": "@jupyter-widgets/base",
            "_view_module_version": "1.2.0",
            "_view_name": "LayoutView",
            "align_content": null,
            "align_items": null,
            "align_self": null,
            "border": null,
            "bottom": null,
            "display": null,
            "flex": null,
            "flex_flow": null,
            "grid_area": null,
            "grid_auto_columns": null,
            "grid_auto_flow": null,
            "grid_auto_rows": null,
            "grid_column": null,
            "grid_gap": null,
            "grid_row": null,
            "grid_template_areas": null,
            "grid_template_columns": null,
            "grid_template_rows": null,
            "height": null,
            "justify_content": null,
            "justify_items": null,
            "left": null,
            "margin": null,
            "max_height": null,
            "max_width": null,
            "min_height": null,
            "min_width": null,
            "object_fit": null,
            "object_position": null,
            "order": null,
            "overflow": null,
            "overflow_x": null,
            "overflow_y": null,
            "padding": null,
            "right": null,
            "top": null,
            "visibility": null,
            "width": null
          }
        },
        "410140f800874a74be5c5aaeb0d0ce2f": {
          "model_module": "@jupyter-widgets/controls",
          "model_name": "DescriptionStyleModel",
          "model_module_version": "1.5.0",
          "state": {
            "_model_module": "@jupyter-widgets/controls",
            "_model_module_version": "1.5.0",
            "_model_name": "DescriptionStyleModel",
            "_view_count": null,
            "_view_module": "@jupyter-widgets/base",
            "_view_module_version": "1.2.0",
            "_view_name": "StyleView",
            "description_width": ""
          }
        },
        "af6c964bda3b4f94831de3aa3203cb60": {
          "model_module": "@jupyter-widgets/base",
          "model_name": "LayoutModel",
          "model_module_version": "1.2.0",
          "state": {
            "_model_module": "@jupyter-widgets/base",
            "_model_module_version": "1.2.0",
            "_model_name": "LayoutModel",
            "_view_count": null,
            "_view_module": "@jupyter-widgets/base",
            "_view_module_version": "1.2.0",
            "_view_name": "LayoutView",
            "align_content": null,
            "align_items": null,
            "align_self": null,
            "border": null,
            "bottom": null,
            "display": null,
            "flex": null,
            "flex_flow": null,
            "grid_area": null,
            "grid_auto_columns": null,
            "grid_auto_flow": null,
            "grid_auto_rows": null,
            "grid_column": null,
            "grid_gap": null,
            "grid_row": null,
            "grid_template_areas": null,
            "grid_template_columns": null,
            "grid_template_rows": null,
            "height": null,
            "justify_content": null,
            "justify_items": null,
            "left": null,
            "margin": null,
            "max_height": null,
            "max_width": null,
            "min_height": null,
            "min_width": null,
            "object_fit": null,
            "object_position": null,
            "order": null,
            "overflow": null,
            "overflow_x": null,
            "overflow_y": null,
            "padding": null,
            "right": null,
            "top": null,
            "visibility": null,
            "width": null
          }
        },
        "93e0bc52ef1f4cff9e8690f91a00e9d2": {
          "model_module": "@jupyter-widgets/controls",
          "model_name": "ProgressStyleModel",
          "model_module_version": "1.5.0",
          "state": {
            "_model_module": "@jupyter-widgets/controls",
            "_model_module_version": "1.5.0",
            "_model_name": "ProgressStyleModel",
            "_view_count": null,
            "_view_module": "@jupyter-widgets/base",
            "_view_module_version": "1.2.0",
            "_view_name": "StyleView",
            "bar_color": null,
            "description_width": ""
          }
        },
        "2e8da0cc0f2f483082aed0c5c5521f23": {
          "model_module": "@jupyter-widgets/base",
          "model_name": "LayoutModel",
          "model_module_version": "1.2.0",
          "state": {
            "_model_module": "@jupyter-widgets/base",
            "_model_module_version": "1.2.0",
            "_model_name": "LayoutModel",
            "_view_count": null,
            "_view_module": "@jupyter-widgets/base",
            "_view_module_version": "1.2.0",
            "_view_name": "LayoutView",
            "align_content": null,
            "align_items": null,
            "align_self": null,
            "border": null,
            "bottom": null,
            "display": null,
            "flex": null,
            "flex_flow": null,
            "grid_area": null,
            "grid_auto_columns": null,
            "grid_auto_flow": null,
            "grid_auto_rows": null,
            "grid_column": null,
            "grid_gap": null,
            "grid_row": null,
            "grid_template_areas": null,
            "grid_template_columns": null,
            "grid_template_rows": null,
            "height": null,
            "justify_content": null,
            "justify_items": null,
            "left": null,
            "margin": null,
            "max_height": null,
            "max_width": null,
            "min_height": null,
            "min_width": null,
            "object_fit": null,
            "object_position": null,
            "order": null,
            "overflow": null,
            "overflow_x": null,
            "overflow_y": null,
            "padding": null,
            "right": null,
            "top": null,
            "visibility": null,
            "width": null
          }
        },
        "87b1e4794f2c44f19eb51228d72e30ca": {
          "model_module": "@jupyter-widgets/controls",
          "model_name": "DescriptionStyleModel",
          "model_module_version": "1.5.0",
          "state": {
            "_model_module": "@jupyter-widgets/controls",
            "_model_module_version": "1.5.0",
            "_model_name": "DescriptionStyleModel",
            "_view_count": null,
            "_view_module": "@jupyter-widgets/base",
            "_view_module_version": "1.2.0",
            "_view_name": "StyleView",
            "description_width": ""
          }
        }
      }
    }
  },
  "nbformat": 4,
  "nbformat_minor": 0
}