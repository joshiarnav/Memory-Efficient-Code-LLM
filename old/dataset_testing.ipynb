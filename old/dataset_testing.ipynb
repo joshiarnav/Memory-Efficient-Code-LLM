{
 "cells": [
  {
   "cell_type": "code",
   "execution_count": 1,
   "metadata": {},
   "outputs": [
    {
     "data": {
      "application/vnd.jupyter.widget-view+json": {
       "model_id": "e6217cee68c54ad99a4777b6d5450a95",
       "version_major": 2,
       "version_minor": 0
      },
      "text/plain": [
       "README.md:   0%|          | 0.00/6.43k [00:00<?, ?B/s]"
      ]
     },
     "metadata": {},
     "output_type": "display_data"
    },
    {
     "data": {
      "application/vnd.jupyter.widget-view+json": {
       "model_id": "c9b3ef8c8b1b4b839e2a9049e8845af8",
       "version_major": 2,
       "version_minor": 0
      },
      "text/plain": [
       "(…)-00000-of-00001-6d49726bd481163a.parquet:   0%|          | 0.00/50.4M [00:00<?, ?B/s]"
      ]
     },
     "metadata": {},
     "output_type": "display_data"
    },
    {
     "data": {
      "application/vnd.jupyter.widget-view+json": {
       "model_id": "a3c3a4c7ffec49afb8b150002870b44b",
       "version_major": 2,
       "version_minor": 0
      },
      "text/plain": [
       "Generating train split:   0%|          | 0/1000 [00:00<?, ? examples/s]"
      ]
     },
     "metadata": {},
     "output_type": "display_data"
    }
   ],
   "source": [
    "from datasets import load_dataset\n",
    "\n",
    "ds = load_dataset(\"DONG19/EffiBench\")"
   ]
  },
  {
   "cell_type": "code",
   "execution_count": 2,
   "metadata": {},
   "outputs": [
    {
     "name": "stdout",
     "output_type": "stream",
     "text": [
      "DatasetDict({\n",
      "    train: Dataset({\n",
      "        features: ['problem_idx', 'task_name', 'description', 'markdown_description', 'canonical_solution', 'test_case_generator', 'test_case'],\n",
      "        num_rows: 1000\n",
      "    })\n",
      "})\n"
     ]
    }
   ],
   "source": [
    "print(ds)"
   ]
  },
  {
   "cell_type": "code",
   "execution_count": 3,
   "metadata": {},
   "outputs": [
    {
     "name": "stdout",
     "output_type": "stream",
     "text": [
      "{'problem_idx': 3, 'task_name': 'Longest Substring Without Repeating Characters', 'description': '\\n\\n<p>Given a string <code>s</code>, find the length of the <strong>longest</strong> <span data-keyword=\"substring-nonempty\"><strong>substring</strong></span> without repeating characters.</p>\\n\\n<p>&nbsp;</p>\\n<p><strong class=\"example\">Example 1:</strong></p>\\n\\n<pre>\\n<strong>Input:</strong> s = &quot;abcabcbb&quot;\\n<strong>Output:</strong> 3\\n<strong>Explanation:</strong> The answer is &quot;abc&quot;, with the length of 3.\\n</pre>\\n\\n<p><strong class=\"example\">Example 2:</strong></p>\\n\\n<pre>\\n<strong>Input:</strong> s = &quot;bbbbb&quot;\\n<strong>Output:</strong> 1\\n<strong>Explanation:</strong> The answer is &quot;b&quot;, with the length of 1.\\n</pre>\\n\\n<p><strong class=\"example\">Example 3:</strong></p>\\n\\n<pre>\\n<strong>Input:</strong> s = &quot;pwwkew&quot;\\n<strong>Output:</strong> 3\\n<strong>Explanation:</strong> The answer is &quot;wke&quot;, with the length of 3.\\nNotice that the answer must be a substring, &quot;pwke&quot; is a subsequence and not a substring.\\n</pre>\\n\\n<p>&nbsp;</p>\\n<p><strong>Constraints:</strong></p>\\n\\n<ul>\\n\\t<li><code>0 &lt;= s.length &lt;= 5 * 10<sup>4</sup></code></li>\\n\\t<li><code>s</code> consists of English letters, digits, symbols and spaces.</li>\\n</ul>\\n\\n', 'markdown_description': '\\nGiven a string `s`, find the length of the **longest** **substring** without repeating characters.\\n\\n\\n\\xa0\\n\\n\\n**Example 1:**\\n\\n\\n\\n```\\n\\n**Input:** s = \"abcabcbb\"\\n**Output:** 3\\n**Explanation:** The answer is \"abc\", with the length of 3.\\n\\n```\\n\\n**Example 2:**\\n\\n\\n\\n```\\n\\n**Input:** s = \"bbbbb\"\\n**Output:** 1\\n**Explanation:** The answer is \"b\", with the length of 1.\\n\\n```\\n\\n**Example 3:**\\n\\n\\n\\n```\\n\\n**Input:** s = \"pwwkew\"\\n**Output:** 3\\n**Explanation:** The answer is \"wke\", with the length of 3.\\nNotice that the answer must be a substring, \"pwke\" is a subsequence and not a substring.\\n\\n```\\n\\n\\xa0\\n\\n\\n**Constraints:**\\n\\n\\n* `0 <= s.length <= 5 * 104`\\n* `s` consists of English letters, digits, symbols and spaces.\\n\\n\\n', 'canonical_solution': 'class Solution:\\n    def lengthOfLongestSubstring(self, s: str) -> int:\\n        ss = set()\\n        i = ans = 0\\n        for j, c in enumerate(s):\\n            while c in ss:\\n                ss.remove(s[i])\\n                i += 1\\n            ss.add(c)\\n            ans = max(ans, j - i + 1)\\n        return ans\\n', 'test_case_generator': '\\nimport random\\n\\nclass Solution:\\n    def lengthOfLongestSubstring(self, s: str) -> int:\\n        ss = set()\\n        i = ans = 0\\n        for j, c in enumerate(s):\\n            while c in ss:\\n                ss.remove(s[i])\\n                i += 1\\n            ss.add(c)\\n            ans = max(ans, j - i + 1)\\n        return ans\\n\\ndef generate_test_case():\\n    solution = Solution()\\n\\n    # Generate a random string\\n    s = \\'\\'.join(random.choices(\\'abcdefghijklmnopqrstuvwxyzABCDEFGHIJKLMNOPQRSTUVWXYZ0123456789\\', k=random.randint(0, 10)))\\n\\n    # Calculate the expected result using the provided Solution class\\n    expected_result = solution.lengthOfLongestSubstring(s)\\n\\n    return (s, ), expected_result\\n\\ndef test_generated_test_cases(num_tests):\\n    test_case_generator_results = []\\n    for i in range(num_tests):\\n        inputs, expected_result = generate_test_case()\\n        solution = Solution()\\n        assert solution.lengthOfLongestSubstring(*inputs) == expected_result\\n\\n        test_case_generator_results.append(f\"assert solution.lengthOfLongestSubstring({\\', \\'.join(map(repr, inputs))}) == {expected_result}\")\\n    return test_case_generator_results\\n\\nif __name__ == \\'__main__\\':\\n    num_tests = 100\\n    test_case_generator_results = test_generated_test_cases(num_tests)\\n    print(*test_case_generator_results, sep=\"\\\\n\")\\n', 'test_case': \"assert solution.lengthOfLongestSubstring('') == 0\\nassert solution.lengthOfLongestSubstring('krLKl6F') == 7\\nassert solution.lengthOfLongestSubstring('p2Cn3Y6') == 7\\nassert solution.lengthOfLongestSubstring('jf') == 2\\nassert solution.lengthOfLongestSubstring('ebl') == 3\\nassert solution.lengthOfLongestSubstring('7FHbLe') == 6\\nassert solution.lengthOfLongestSubstring('cUoD0S') == 6\\nassert solution.lengthOfLongestSubstring('M1kCixrcvS') == 10\\nassert solution.lengthOfLongestSubstring('V9sGI') == 5\\nassert solution.lengthOfLongestSubstring('0iTSFPsD5') == 9\\nassert solution.lengthOfLongestSubstring('D') == 1\\nassert solution.lengthOfLongestSubstring('ncNp') == 4\\nassert solution.lengthOfLongestSubstring('FKdZH') == 5\\nassert solution.lengthOfLongestSubstring('FqhvT67') == 7\\nassert solution.lengthOfLongestSubstring('D1zyWG0a') == 8\\nassert solution.lengthOfLongestSubstring('VyOucQ') == 6\\nassert solution.lengthOfLongestSubstring('SXqMDBVoEN') == 10\\nassert solution.lengthOfLongestSubstring('mYjdE1QjDm') == 7\\nassert solution.lengthOfLongestSubstring('4rd2vxkZZR') == 8\\nassert solution.lengthOfLongestSubstring('qWggGpiX') == 5\\nassert solution.lengthOfLongestSubstring('yEk') == 3\\nassert solution.lengthOfLongestSubstring('1SbbkRXgx') == 6\\nassert solution.lengthOfLongestSubstring('WnLZ') == 4\\nassert solution.lengthOfLongestSubstring('pEF') == 3\\nassert solution.lengthOfLongestSubstring('d7OCVynX0') == 9\\nassert solution.lengthOfLongestSubstring('') == 0\\nassert solution.lengthOfLongestSubstring('qSPMKL2Pa') == 7\\nassert solution.lengthOfLongestSubstring('PrYzK1nUJ') == 9\\nassert solution.lengthOfLongestSubstring('JBu') == 3\\nassert solution.lengthOfLongestSubstring('IBCg7KcjgY') == 8\\nassert solution.lengthOfLongestSubstring('T') == 1\\nassert solution.lengthOfLongestSubstring('Rjy5bwtsK') == 9\\nassert solution.lengthOfLongestSubstring('Brh') == 3\\nassert solution.lengthOfLongestSubstring('DPz') == 3\\nassert solution.lengthOfLongestSubstring('kSu99Brx') == 4\\nassert solution.lengthOfLongestSubstring('m') == 1\\nassert solution.lengthOfLongestSubstring('KMa') == 3\\nassert solution.lengthOfLongestSubstring('VLOg') == 4\\nassert solution.lengthOfLongestSubstring('UmRlK') == 5\\nassert solution.lengthOfLongestSubstring('AWw2zq') == 6\\nassert solution.lengthOfLongestSubstring('VBs2uAH3H') == 8\\nassert solution.lengthOfLongestSubstring('ufSovl54BW') == 10\\nassert solution.lengthOfLongestSubstring('vStUY7') == 6\\nassert solution.lengthOfLongestSubstring('oGF') == 3\\nassert solution.lengthOfLongestSubstring('0Xj') == 3\\nassert solution.lengthOfLongestSubstring('4') == 1\\nassert solution.lengthOfLongestSubstring('aFevv') == 4\\nassert solution.lengthOfLongestSubstring('Xz') == 2\\nassert solution.lengthOfLongestSubstring('StG4') == 4\\nassert solution.lengthOfLongestSubstring('Rie') == 3\\nassert solution.lengthOfLongestSubstring('8RY3erTER') == 8\\nassert solution.lengthOfLongestSubstring('BN2n6AoJ0c') == 10\\nassert solution.lengthOfLongestSubstring('UO') == 2\\nassert solution.lengthOfLongestSubstring('VmBZvv1') == 5\\nassert solution.lengthOfLongestSubstring('LMWQ') == 4\\nassert solution.lengthOfLongestSubstring('') == 0\\nassert solution.lengthOfLongestSubstring('80') == 2\\nassert solution.lengthOfLongestSubstring('xvr') == 3\\nassert solution.lengthOfLongestSubstring('L1sr9dvT') == 8\\nassert solution.lengthOfLongestSubstring('F') == 1\\nassert solution.lengthOfLongestSubstring('9mBKJg2RoF') == 10\\nassert solution.lengthOfLongestSubstring('u3SHz53') == 6\\nassert solution.lengthOfLongestSubstring('uIxsZwqW2u') == 9\\nassert solution.lengthOfLongestSubstring('iiJ30w') == 5\\nassert solution.lengthOfLongestSubstring('LPK5N') == 5\\nassert solution.lengthOfLongestSubstring('MvYNcL') == 6\\nassert solution.lengthOfLongestSubstring('PidX') == 4\\nassert solution.lengthOfLongestSubstring('c0c') == 2\\nassert solution.lengthOfLongestSubstring('') == 0\\nassert solution.lengthOfLongestSubstring('UUBXog7At') == 8\\nassert solution.lengthOfLongestSubstring('uY9RR0') == 4\\nassert solution.lengthOfLongestSubstring('') == 0\\nassert solution.lengthOfLongestSubstring('SLWSu53h') == 7\\nassert solution.lengthOfLongestSubstring('vhsRBcC') == 7\\nassert solution.lengthOfLongestSubstring('WDkR2G3jSH') == 10\\nassert solution.lengthOfLongestSubstring('') == 0\\nassert solution.lengthOfLongestSubstring('Ssid5') == 5\\nassert solution.lengthOfLongestSubstring('xLZ8IF1FIT') == 7\\nassert solution.lengthOfLongestSubstring('9day') == 4\\nassert solution.lengthOfLongestSubstring('uPvh71l') == 7\\nassert solution.lengthOfLongestSubstring('AICk') == 4\\nassert solution.lengthOfLongestSubstring('E5D') == 3\\nassert solution.lengthOfLongestSubstring('eJ5D1gPo') == 8\\nassert solution.lengthOfLongestSubstring('OdrwR') == 5\\nassert solution.lengthOfLongestSubstring('ztJjPukfhk') == 9\\nassert solution.lengthOfLongestSubstring('gE') == 2\\nassert solution.lengthOfLongestSubstring('Yp0') == 3\\nassert solution.lengthOfLongestSubstring('Ue9Pqe74k') == 7\\nassert solution.lengthOfLongestSubstring('5') == 1\\nassert solution.lengthOfLongestSubstring('BdauxZZFxu') == 6\\nassert solution.lengthOfLongestSubstring('FZhAzP20n') == 9\\nassert solution.lengthOfLongestSubstring('iBFKT') == 5\\nassert solution.lengthOfLongestSubstring('kd') == 2\\nassert solution.lengthOfLongestSubstring('GzLCgm1lF') == 9\\nassert solution.lengthOfLongestSubstring('GxkMbFuM') == 7\\nassert solution.lengthOfLongestSubstring('') == 0\\nassert solution.lengthOfLongestSubstring('OGa7brYx3e') == 10\\nassert solution.lengthOfLongestSubstring('743lBZ2upV') == 10\\nassert solution.lengthOfLongestSubstring('vVj') == 3\\nassert solution.lengthOfLongestSubstring('') == 0\"}\n"
     ]
    }
   ],
   "source": [
    "print(ds['train'][0])"
   ]
  },
  {
   "cell_type": "code",
   "execution_count": 4,
   "metadata": {},
   "outputs": [
    {
     "name": "stdout",
     "output_type": "stream",
     "text": [
      "dict_keys(['problem_idx', 'task_name', 'description', 'markdown_description', 'canonical_solution', 'test_case_generator', 'test_case'])\n"
     ]
    }
   ],
   "source": [
    "print(ds['train'][0].keys())"
   ]
  },
  {
   "cell_type": "code",
   "execution_count": 5,
   "metadata": {},
   "outputs": [
    {
     "name": "stdout",
     "output_type": "stream",
     "text": [
      "class Solution:\n",
      "    def lengthOfLongestSubstring(self, s: str) -> int:\n",
      "        ss = set()\n",
      "        i = ans = 0\n",
      "        for j, c in enumerate(s):\n",
      "            while c in ss:\n",
      "                ss.remove(s[i])\n",
      "                i += 1\n",
      "            ss.add(c)\n",
      "            ans = max(ans, j - i + 1)\n",
      "        return ans\n",
      "\n"
     ]
    }
   ],
   "source": [
    "print(ds['train'][0]['canonical_solution'])"
   ]
  },
  {
   "cell_type": "code",
   "execution_count": null,
   "metadata": {},
   "outputs": [],
   "source": []
  }
 ],
 "metadata": {
  "kernelspec": {
   "display_name": "Python 3",
   "language": "python",
   "name": "python3"
  },
  "language_info": {
   "codemirror_mode": {
    "name": "ipython",
    "version": 3
   },
   "file_extension": ".py",
   "mimetype": "text/x-python",
   "name": "python",
   "nbconvert_exporter": "python",
   "pygments_lexer": "ipython3",
   "version": "3.10.8"
  }
 },
 "nbformat": 4,
 "nbformat_minor": 2
}
